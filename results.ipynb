{
 "cells": [
  {
   "cell_type": "markdown",
   "metadata": {},
   "source": [
    "# KØR TESTENE ORDENTLIGT IGEN"
   ]
  },
  {
   "cell_type": "code",
   "execution_count": 63,
   "metadata": {},
   "outputs": [],
   "source": [
    "import pandas as pd\n",
    "import numpy as np\n",
    "import methods_NN as NN\n",
    "import pickle\n",
    "import torch\n",
    "\n",
    "# Plot setup\n",
    "from pandas.plotting import register_matplotlib_converters\n",
    "import matplotlib\n",
    "matplotlib.use(\"TkAgg\")\n",
    "import matplotlib.pyplot as plt\n",
    "register_matplotlib_converters()\n",
    "plt.rc(\"figure\", figsize=(12, 8))\n",
    "plt.rc(\"font\", size=13)"
   ]
  },
  {
   "cell_type": "code",
   "execution_count": 64,
   "metadata": {},
   "outputs": [],
   "source": [
    "dir_names = [\"test\" + str(i) + \"/\" for i in range(1, 4)]\n",
    "results = []\n",
    "for name in dir_names:\n",
    "    with open(name+\"params.pkl\", \"rb\") as f:\n",
    "        results.append(pickle.load(f))"
   ]
  },
  {
   "cell_type": "code",
   "execution_count": 65,
   "metadata": {},
   "outputs": [
    {
     "data": {
      "text/plain": [
       "dict_keys(['accuracy', 'accuracy negative', 'accuracy positive', 'Smoking', 'guesses', 'truths', 'hidden layer dims', 'loss list'])"
      ]
     },
     "execution_count": 65,
     "metadata": {},
     "output_type": "execute_result"
    }
   ],
   "source": [
    "val.keys()"
   ]
  },
  {
   "cell_type": "code",
   "execution_count": 66,
   "metadata": {},
   "outputs": [
    {
     "name": "stdout",
     "output_type": "stream",
     "text": [
      "Guessed diabetes 3.34% of the time.\n",
      "Guessed diabetes 5.16% of the time.\n",
      "Guessed diabetes 3.12% of the time.\n",
      "When 13.93% of people have diabetes\n"
     ]
    }
   ],
   "source": [
    "for val in results:\n",
    "    len_guesses = len(val[\"guesses\"])\n",
    "    len_guesses_diabetes = len(val[\"guesses\"][val[\"guesses\"] == 1])\n",
    "    print(f\"Guessed diabetes {100*len_guesses_diabetes/len_guesses:.2f}% of the time.\")\n",
    "    \n",
    "len_truths = len(results[0][\"truths\"])\n",
    "len_truths_diabetes = len(results[0][\"truths\"][results[0][\"truths\"] == 1])\n",
    "print(f\"When {100*len_truths_diabetes/len_truths:.2f}% of people have diabetes\")"
   ]
  },
  {
   "cell_type": "code",
   "execution_count": 67,
   "metadata": {},
   "outputs": [
    {
     "name": "stdout",
     "output_type": "stream",
     "text": [
      "[10]\n",
      "[20, 10]\n",
      "[200, 100]\n"
     ]
    }
   ],
   "source": [
    "for val in results:\n",
    "    print(val[\"hidden layer dims\"])"
   ]
  },
  {
   "cell_type": "code",
   "execution_count": 68,
   "metadata": {},
   "outputs": [
    {
     "name": "stdout",
     "output_type": "stream",
     "text": [
      "TP: 14.60% | TN: 98.48%\n",
      "-----------------------\n",
      "FP: 1.52% | FN: 85.40%\n",
      "\n",
      "\n",
      "TP: 20.63% | TN: 97.35%\n",
      "-----------------------\n",
      "FP: 2.65% | FN: 79.37%\n",
      "\n",
      "\n",
      "TP: 13.19% | TN: 98.51%\n",
      "-----------------------\n",
      "FP: 1.49% | FN: 86.81%\n",
      "\n",
      "\n"
     ]
    }
   ],
   "source": [
    "for val in results:\n",
    "    n_correct_positive = 0\n",
    "    n_correct_negative = 0\n",
    "    n_guess_positive = len(val[\"guesses\"][val[\"guesses\"] == 1])\n",
    "    n_guess_negative = len(val[\"guesses\"][val[\"guesses\"] == 0])\n",
    "    n_diabetes = len(val[\"truths\"][val[\"truths\"] == 1])\n",
    "    n_not_diabetes = len(val[\"truths\"][val[\"truths\"] == 0])\n",
    "    \n",
    "    for i, guess in enumerate(val[\"guesses\"]):\n",
    "        if guess == val[\"truths\"][i] and guess == 1:\n",
    "            n_correct_positive += 1\n",
    "        elif guess == val[\"truths\"][i] and guess == 0:\n",
    "            n_correct_negative += 1\n",
    "    \n",
    "    TP = n_correct_positive / n_diabetes\n",
    "    TN = n_correct_negative / n_not_diabetes\n",
    "    FP = 1 - TN\n",
    "    FN = 1 - TP\n",
    "    \n",
    "    print(f\"TP: {100*TP:.2f}% | TN: {100*TN:.2f}%\")\n",
    "    print(\"-----------------------\")\n",
    "    print(f\"FP: {100*FP:.2f}% | FN: {100*FN:.2f}%\")\n",
    "    print(\"\\n\")"
   ]
  }
 ],
 "metadata": {
  "kernelspec": {
   "display_name": "Python 3.10.6 ('uni_python')",
   "language": "python",
   "name": "python3"
  },
  "language_info": {
   "codemirror_mode": {
    "name": "ipython",
    "version": 3
   },
   "file_extension": ".py",
   "mimetype": "text/x-python",
   "name": "python",
   "nbconvert_exporter": "python",
   "pygments_lexer": "ipython3",
   "version": "3.10.6"
  },
  "orig_nbformat": 4,
  "vscode": {
   "interpreter": {
    "hash": "dffeb5d5d60ad7e8157925030d2fb867867025db2e2d26da9e7bf712089e2da9"
   }
  }
 },
 "nbformat": 4,
 "nbformat_minor": 2
}
