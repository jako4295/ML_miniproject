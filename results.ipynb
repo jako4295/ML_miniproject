{
 "cells": [
  {
   "cell_type": "markdown",
   "metadata": {},
   "source": [
    "# KØR TESTENE ORDENTLIGT IGEN"
   ]
  },
  {
   "cell_type": "code",
   "execution_count": 6,
   "metadata": {},
   "outputs": [],
   "source": [
    "import pandas as pd\n",
    "import numpy as np\n",
    "import methods_NN as NN\n",
    "import pickle\n",
    "import torch\n",
    "\n",
    "# Plot setup\n",
    "from pandas.plotting import register_matplotlib_converters\n",
    "import matplotlib\n",
    "matplotlib.use(\"TkAgg\")\n",
    "import matplotlib.pyplot as plt\n",
    "register_matplotlib_converters()\n",
    "plt.rc(\"figure\", figsize=(12, 8))\n",
    "plt.rc(\"font\", size=13)"
   ]
  },
  {
   "cell_type": "code",
   "execution_count": 7,
   "metadata": {},
   "outputs": [],
   "source": [
    "dir_names = [\"test\" + str(i) + \"/\" for i in range(1, 4)]\n",
    "results = []\n",
    "for name in dir_names:\n",
    "    with open(name+\"params.pkl\", \"rb\") as f:\n",
    "        results.append(pickle.load(f))"
   ]
  },
  {
   "cell_type": "code",
   "execution_count": 8,
   "metadata": {},
   "outputs": [
    {
     "name": "stdout",
     "output_type": "stream",
     "text": [
      "Guessed diabetes 53.21% of the time.\n",
      "Guessed diabetes 55.69% of the time.\n",
      "Guessed diabetes 56.70% of the time.\n",
      "When 49.34% of people have diabetes\n"
     ]
    }
   ],
   "source": [
    "for val in results:\n",
    "    len_guesses = len(val[\"guesses\"])\n",
    "    len_guesses_diabetes = len(val[\"guesses\"][val[\"guesses\"] == 1])\n",
    "    print(f\"Guessed diabetes {100*len_guesses_diabetes/len_guesses:.2f}% of the time.\")\n",
    "    \n",
    "len_truths = len(results[0][\"truths\"])\n",
    "len_truths_diabetes = len(results[0][\"truths\"][results[0][\"truths\"] == 1])\n",
    "print(f\"When {100*len_truths_diabetes/len_truths:.2f}% of people have diabetes\")"
   ]
  },
  {
   "cell_type": "code",
   "execution_count": 9,
   "metadata": {},
   "outputs": [
    {
     "name": "stdout",
     "output_type": "stream",
     "text": [
      "[100, 100]\n",
      "[10]\n",
      "[500, 500, 500]\n"
     ]
    }
   ],
   "source": [
    "for val in results:\n",
    "    print(val[\"hidden layer dims\"])"
   ]
  },
  {
   "cell_type": "code",
   "execution_count": 13,
   "metadata": {},
   "outputs": [
    {
     "name": "stdout",
     "output_type": "stream",
     "text": [
      "TP: 79.0% | TN: 71.9%\n",
      "-----------------------\n",
      "FP: 28.1% | FN: 21.0%\n",
      "Overall: 75.4%\n",
      "\n",
      "\n",
      "TP: 80.6% | TN: 68.6%\n",
      "-----------------------\n",
      "FP: 31.4% | FN: 19.4%\n",
      "Overall: 74.5%\n",
      "\n",
      "\n",
      "TP: 82.4% | TN: 68.4%\n",
      "-----------------------\n",
      "FP: 31.6% | FN: 17.6%\n",
      "Overall: 75.3%\n",
      "\n",
      "\n"
     ]
    }
   ],
   "source": [
    "for val in results:\n",
    "    n_correct_positive = 0\n",
    "    n_correct_negative = 0\n",
    "    n_guess_positive = len(val[\"guesses\"][val[\"guesses\"] == 1])\n",
    "    n_guess_negative = len(val[\"guesses\"][val[\"guesses\"] == 0])\n",
    "    n_diabetes = len(val[\"truths\"][val[\"truths\"] == 1])\n",
    "    n_not_diabetes = len(val[\"truths\"][val[\"truths\"] == 0])\n",
    "    \n",
    "    for i, guess in enumerate(val[\"guesses\"]):\n",
    "        if guess == val[\"truths\"][i] and guess == 1:\n",
    "            n_correct_positive += 1\n",
    "        elif guess == val[\"truths\"][i] and guess == 0:\n",
    "            n_correct_negative += 1\n",
    "    \n",
    "    TP = n_correct_positive / n_diabetes\n",
    "    TN = n_correct_negative / n_not_diabetes\n",
    "    FP = 1 - TN\n",
    "    FN = 1 - TP\n",
    "    \n",
    "    correct = n_correct_negative + n_correct_positive\n",
    "    false = len(val[\"guesses\"])\n",
    "    overall = correct / false\n",
    "    \n",
    "    print(f\"TP: {100*TP:.1f}% | TN: {100*TN:.1f}%\")\n",
    "    print(\"-----------------------\")\n",
    "    print(f\"FP: {100*FP:.1f}% | FN: {100*FN:.1f}%\")\n",
    "    print(f\"Overall: {100*overall:.1f}%\")\n",
    "    print(\"\\n\")"
   ]
  }
 ],
 "metadata": {
  "kernelspec": {
   "display_name": "Python 3.10.6 ('uni_python')",
   "language": "python",
   "name": "python3"
  },
  "language_info": {
   "codemirror_mode": {
    "name": "ipython",
    "version": 3
   },
   "file_extension": ".py",
   "mimetype": "text/x-python",
   "name": "python",
   "nbconvert_exporter": "python",
   "pygments_lexer": "ipython3",
   "version": "3.10.6"
  },
  "orig_nbformat": 4,
  "vscode": {
   "interpreter": {
    "hash": "dffeb5d5d60ad7e8157925030d2fb867867025db2e2d26da9e7bf712089e2da9"
   }
  }
 },
 "nbformat": 4,
 "nbformat_minor": 2
}
