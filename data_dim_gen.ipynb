{
 "cells": [
  {
   "cell_type": "code",
   "execution_count": 11,
   "metadata": {},
   "outputs": [],
   "source": [
    "import numpy as np\n",
    "import pandas as pd\n",
    "from sklearn.decomposition import PCA\n",
    "from sklearn.discriminant_analysis import LinearDiscriminantAnalysis as LDA\n",
    "from sklearn.model_selection import train_test_split as tts\n",
    "import os"
   ]
  },
  {
   "cell_type": "code",
   "execution_count": 12,
   "metadata": {},
   "outputs": [],
   "source": [
    "path = \"archive\"\n",
    "save_path = \"data\"\n",
    "\n",
    "new_lab = \"Smoker\" #needs to be exactly the same as a category from the csv file"
   ]
  },
  {
   "cell_type": "code",
   "execution_count": 13,
   "metadata": {},
   "outputs": [],
   "source": [
    "isExist = os.path.exists(save_path)\n",
    "if not isExist:\n",
    "    os.makedirs(save_path)\n",
    "    print(\"The new directory is created!\")"
   ]
  },
  {
   "cell_type": "code",
   "execution_count": 14,
   "metadata": {},
   "outputs": [],
   "source": [
    "data_pd = pd.read_csv(path + '/diabetes_binary_health_indicators_BRFSS2015.csv')\n",
    "data_param = data_pd.columns\n",
    "data = data_pd.values"
   ]
  },
  {
   "cell_type": "code",
   "execution_count": 6,
   "metadata": {},
   "outputs": [
    {
     "data": {
      "text/plain": [
       "((253680, 21), (228312, 21))"
      ]
     },
     "execution_count": 6,
     "metadata": {},
     "output_type": "execute_result"
    }
   ],
   "source": [
    "labs = data[:,0]\n",
    "data = data[:,1:]\n",
    "X_train, X_test, y_train, y_test = tts(data, labs, test_size=0.1, shuffle=True)\n",
    "data.shape, X_train.shape"
   ]
  },
  {
   "cell_type": "code",
   "execution_count": 7,
   "metadata": {},
   "outputs": [],
   "source": [
    "pca_dim2 = PCA(n_components=2) \n",
    "train_pca2 = pca_dim2.fit_transform(X_train, y_train)\n",
    "test_pca2 = pca_dim2.transform(X_test)\n",
    "\n",
    "pca_dim10 = PCA(n_components=10) \n",
    "train_pca10 = pca_dim10.fit_transform(X_train, y_train)\n",
    "test_pca10 = pca_dim10.transform(X_test)"
   ]
  },
  {
   "cell_type": "code",
   "execution_count": null,
   "metadata": {},
   "outputs": [],
   "source": [
    "pd.DataFrame(train_pca2).to_csv(save_path + '/trn_pca2.csv', index=False)\n",
    "pd.DataFrame(test_pca2).to_csv(save_path + '/tst_pca2.csv', index=False)\n",
    "pd.DataFrame(y_train).to_csv(save_path + '/trn_labs.csv', index=False)\n",
    "pd.DataFrame(y_test).to_csv(save_path + '/tst_labs.csv', index=False)\n",
    "pd.DataFrame(X_train).to_csv(save_path + '/trn_all.csv', index=False)\n",
    "pd.DataFrame(X_test).to_csv(save_path + '/tst_all.csv', index=False)\n",
    "pd.DataFrame(X_test).to_csv(save_path + '/tst_all.csv', index=False)\n",
    "pd.DataFrame(data_param).to_csv(save_path + '/param.csv', index=False)"
   ]
  },
  {
   "cell_type": "markdown",
   "metadata": {},
   "source": [
    "<h3>Smoking data</h3>"
   ]
  },
  {
   "cell_type": "code",
   "execution_count": 17,
   "metadata": {},
   "outputs": [],
   "source": [
    "labs_ = data_pd[new_lab].values\n",
    "dat_ = data_pd[data_pd.columns.drop(new_lab)].values\n",
    "\n",
    "X_train_, X_test_, y_train_, y_test_ = tts(dat_, labs_, test_size=0.1, shuffle=True)\n",
    "\n",
    "pca_dim2_ = PCA(n_components=2) \n",
    "train_pca2_ = pca_dim2_.fit_transform(X_train_, y_train_)\n",
    "test_pca2_ = pca_dim2_.transform(X_test_)\n",
    "\n",
    "pca_dim10_ = PCA(n_components=10) \n",
    "train_pca10_ = pca_dim10.fit_transform(X_train_, y_train_)\n",
    "test_pca10_ = pca_dim10.transform(X_test_)\n",
    "\n",
    "new_file = \"data_\"+new_lab\n",
    "isExist = os.path.exists(new_file)\n",
    "if not isExist:\n",
    "    os.makedirs(new_file)\n",
    "    print(\"The new directory is created!\")\n",
    "\n",
    "pd.DataFrame(train_pca2_).to_csv(new_file + '/trn_pca2.csv', index=False)\n",
    "pd.DataFrame(test_pca2_).to_csv(new_file + '/tst_pca2.csv', index=False)\n",
    "pd.DataFrame(train_pca10_).to_csv(new_file + '/trn_pca10.csv', index=False)\n",
    "pd.DataFrame(test_pca10_).to_csv(new_file + '/tst_pca10.csv', index=False)\n",
    "pd.DataFrame(y_train_).to_csv(new_file + '/trn_labs.csv', index=False)\n",
    "pd.DataFrame(y_test_).to_csv(new_file + '/tst_labs.csv', index=False)\n",
    "pd.DataFrame(X_train_).to_csv(new_file + '/trn_all.csv', index=False)\n",
    "pd.DataFrame(X_test_).to_csv(new_file + '/tst_all.csv', index=False)\n",
    "pd.DataFrame(X_test_).to_csv(new_file + '/tst_all.csv', index=False)\n",
    "pd.DataFrame(data_param).to_csv(new_file + '/param.csv', index=False)"
   ]
  },
  {
   "cell_type": "code",
   "execution_count": null,
   "metadata": {},
   "outputs": [],
   "source": []
  }
 ],
 "metadata": {
  "kernelspec": {
   "display_name": "Python 3.10.8 ('uni_python')",
   "language": "python",
   "name": "python3"
  },
  "language_info": {
   "codemirror_mode": {
    "name": "ipython",
    "version": 3
   },
   "file_extension": ".py",
   "mimetype": "text/x-python",
   "name": "python",
   "nbconvert_exporter": "python",
   "pygments_lexer": "ipython3",
   "version": "3.10.8"
  },
  "orig_nbformat": 4,
  "vscode": {
   "interpreter": {
    "hash": "5a1dc1df412c4b1b7f123b1b4ec1059ad232d9475d2964d51cd2f39dfe4e8cc4"
   }
  }
 },
 "nbformat": 4,
 "nbformat_minor": 2
}
