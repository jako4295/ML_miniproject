{
 "cells": [
  {
   "cell_type": "code",
   "execution_count": 74,
   "metadata": {},
   "outputs": [],
   "source": [
    "import numpy as np\n",
    "import pandas as pd\n",
    "from sklearn.decomposition import PCA\n",
    "from sklearn.discriminant_analysis import LinearDiscriminantAnalysis as LDA\n",
    "from sklearn.model_selection import train_test_split as tts\n",
    "from sklearn.preprocessing import minmax_scale # normalize data\n",
    "import os\n",
    "np.random.seed(69)"
   ]
  },
  {
   "cell_type": "code",
   "execution_count": 75,
   "metadata": {},
   "outputs": [],
   "source": [
    "path = \"archive\"\n",
    "save_path = \"data\"\n",
    "\n",
    "new_lab = \"Diabetes_binary\" #needs to be exactly the same as a category from the csv file\n",
    "filt = True\n",
    "normalize = True"
   ]
  },
  {
   "cell_type": "code",
   "execution_count": 76,
   "metadata": {},
   "outputs": [],
   "source": [
    "data_pd = pd.read_csv(path + '/diabetes_binary_health_indicators_BRFSS2015.csv')\n",
    "data_param = data_pd.columns"
   ]
  },
  {
   "cell_type": "markdown",
   "metadata": {},
   "source": [
    "<h3>Generate data</h3>"
   ]
  },
  {
   "cell_type": "code",
   "execution_count": 77,
   "metadata": {},
   "outputs": [],
   "source": [
    "# Filter data to be 50/50 diabetes/not diabetes\n",
    "\n",
    "data_len = len(data_pd)\n",
    "data_1_pd = data_pd[data_pd['Diabetes_binary'] == 1]\n",
    "diab_len = len(data_1_pd)\n",
    "nondiab_len = data_len-diab_len\n",
    "\n",
    "chosen_non_diab = np.random.choice(nondiab_len, diab_len, replace=False)\n",
    "\n",
    "data_0_pd = data_pd[data_pd['Diabetes_binary'] == 0].reset_index(drop=True)\n",
    "\n",
    "data_0_pd_chosen = data_0_pd.iloc[chosen_non_diab]\n",
    "\n",
    "data_concat = pd.concat([data_1_pd, data_0_pd_chosen]).reset_index(drop=True)\n",
    "\n",
    "data_filtered = data_concat.iloc[np.random.permutation(len(data_concat))].reset_index(drop=True)\n",
    "\n",
    "if normalize:\n",
    "    for key in data_filtered.keys():\n",
    "        if len(data_filtered[data_filtered[key] > 1]) > 0:\n",
    "            data_filtered[key] = minmax_scale(data_filtered[key])\n",
    "data_filtered = data_filtered[:70000]"
   ]
  },
  {
   "cell_type": "code",
   "execution_count": 78,
   "metadata": {},
   "outputs": [],
   "source": [
    "if filt:\n",
    "    data_pd = data_filtered\n",
    "\n",
    "labs_ = data_pd[new_lab].values\n",
    "dat_ = data_pd[data_pd.columns.drop(new_lab)].values\n",
    "\n",
    "X_train_, X_test_, y_train_, y_test_ = tts(dat_, labs_, test_size=0.1, shuffle=True)\n",
    "\n",
    "pca_dim2_ = PCA(n_components=2) \n",
    "train_pca2_ = pca_dim2_.fit_transform(X_train_, y_train_)\n",
    "test_pca2_ = pca_dim2_.transform(X_test_)\n",
    "\n",
    "pca_dim10_ = PCA(n_components=10) \n",
    "train_pca10_ = pca_dim10_.fit_transform(X_train_, y_train_)\n",
    "test_pca10_ = pca_dim10_.transform(X_test_)\n",
    "\n",
    "\n",
    "\n",
    "new_file = \"data_\"+new_lab\n",
    "if filt:\n",
    "    new_file += '_5050'\n",
    "if normalize:\n",
    "    new_file += '_norm'\n",
    "\n",
    "isExist = os.path.exists(new_file)\n",
    "if not isExist:\n",
    "    os.makedirs(new_file)\n",
    "    print(\"The new directory is created!\")\n",
    "\n",
    "pd.DataFrame(train_pca2_).to_csv(new_file + '/trn_pca2.csv', index=False)\n",
    "pd.DataFrame(test_pca2_).to_csv(new_file + '/tst_pca2.csv', index=False)\n",
    "pd.DataFrame(train_pca10_).to_csv(new_file + '/trn_pca10.csv', index=False)\n",
    "pd.DataFrame(test_pca10_).to_csv(new_file + '/tst_pca10.csv', index=False)\n",
    "pd.DataFrame(y_train_).to_csv(new_file + '/trn_labs.csv', index=False)\n",
    "pd.DataFrame(y_test_).to_csv(new_file + '/tst_labs.csv', index=False)\n",
    "pd.DataFrame(X_train_).to_csv(new_file + '/trn_all.csv', index=False)\n",
    "pd.DataFrame(X_test_).to_csv(new_file + '/tst_all.csv', index=False)\n",
    "pd.DataFrame(X_test_).to_csv(new_file + '/tst_all.csv', index=False)\n",
    "pd.DataFrame(data_param).to_csv(new_file + '/param.csv', index=False)"
   ]
  }
 ],
 "metadata": {
  "kernelspec": {
   "display_name": "Python 3.10.8 ('uni_python')",
   "language": "python",
   "name": "python3"
  },
  "language_info": {
   "codemirror_mode": {
    "name": "ipython",
    "version": 3
   },
   "file_extension": ".py",
   "mimetype": "text/x-python",
   "name": "python",
   "nbconvert_exporter": "python",
   "pygments_lexer": "ipython3",
   "version": "3.10.8"
  },
  "orig_nbformat": 4,
  "vscode": {
   "interpreter": {
    "hash": "5a1dc1df412c4b1b7f123b1b4ec1059ad232d9475d2964d51cd2f39dfe4e8cc4"
   }
  }
 },
 "nbformat": 4,
 "nbformat_minor": 2
}
