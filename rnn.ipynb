{
 "cells": [
  {
   "cell_type": "code",
   "execution_count": 13,
   "metadata": {},
   "outputs": [],
   "source": [
    "import numpy as np\n",
    "import torch\n",
    "from torch.utils.data import Dataset, DataLoader\n",
    "import pandas as pd\n",
    "from torch.autograd import Variable\n",
    "import torch.nn as nn"
   ]
  },
  {
   "cell_type": "code",
   "execution_count": 6,
   "metadata": {},
   "outputs": [],
   "source": [
    "batch_size = 50"
   ]
  },
  {
   "cell_type": "code",
   "execution_count": 8,
   "metadata": {},
   "outputs": [],
   "source": [
    "dat_trn = pd.read_csv('data/trn_all.csv').values\n",
    "dat_tst = pd.read_csv('data/tst_all.csv').values\n",
    "\n",
    "y_trn = pd.read_csv('data/tst_labs.csv').values\n",
    "y_tst = pd.read_csv('data/trn_labs.csv').values"
   ]
  },
  {
   "cell_type": "code",
   "execution_count": 9,
   "metadata": {},
   "outputs": [],
   "source": [
    "class NumbersDataset(Dataset):\n",
    "    def __init__(self, samples, labels):\n",
    "        self.samples = torch.from_numpy(samples).to(torch.float32)\n",
    "        self.labels = torch.from_numpy(labels).to(torch.float32)\n",
    "\n",
    "    def __len__(self):\n",
    "        return len(self.samples)\n",
    "\n",
    "    def __getitem__(self, idx):\n",
    "        return self.samples[idx], self.labels[idx]\n",
    "\n",
    "\n",
    "def trn_tst_loader(trn, y_trn, tst, y_tst, batch):\n",
    "    trn_torch = NumbersDataset(trn, y_trn)\n",
    "    tst_torch = NumbersDataset(tst, y_tst)\n",
    "\n",
    "    trn_loader = DataLoader(trn_torch, batch_size=batch, shuffle=True)\n",
    "    tst_loader = DataLoader(tst_torch, batch_size=batch, shuffle=True)\n",
    "\n",
    "    return trn_loader, tst_loader"
   ]
  },
  {
   "cell_type": "code",
   "execution_count": 11,
   "metadata": {},
   "outputs": [],
   "source": [
    "trn_loader, tst_loader = trn_tst_loader(dat_trn, y_trn, dat_tst, y_tst, batch_size)"
   ]
  },
  {
   "cell_type": "code",
   "execution_count": null,
   "metadata": {},
   "outputs": [],
   "source": [
    "class RNN(nn.Module):\n",
    "    '''\n",
    "    Inspiration from:\n",
    "    https://www.kaggle.com/code/kanncaa1/recurrent-neural-network-with-pytorch/notebook\n",
    "\n",
    "    Module used to create a recurrent neural network. \n",
    "    '''\n",
    "    def __init__(self, input_dim, hidden_dim, layer_dim, output_dim, batch_size):\n",
    "        super(RNN, self).__init__()\n",
    "\n",
    "        # Number of hidden dimensions\n",
    "        self.hidden_dim = hidden_dim\n",
    "\n",
    "        # Number of hidden layers\n",
    "        self.layer_dim = layer_dim\n",
    "\n",
    "        self.input_dim = input_dim\n",
    "        self.batch = batch_size\n",
    "\n",
    "        # RNN\n",
    "        self.rnn = nn.RNN(2, hidden_dim, layer_dim,\n",
    "                          batch_first=True, nonlinearity='relu')\n",
    "\n",
    "        # fc: fully connected layer\n",
    "        self.fc = nn.Linear(hidden_dim, output_dim)\n",
    "\n",
    "    def forward(self, x):\n",
    "        # Initialize hidden state with zeros\n",
    "        h0 = Variable(torch.zeros(self.layer_dim, self.batch, self.hidden_dim))\n",
    "\n",
    "        # One time step\n",
    "        out, hn = self.rnn(x, h0)\n",
    "\n",
    "        # Since RNN has different structure it only uses the last\n",
    "        # entrance of the sequence length for the output hence [:, -1, :]\n",
    "        out = self.fc(out[:, -1, :])\n",
    "        return out"
   ]
  }
 ],
 "metadata": {
  "kernelspec": {
   "display_name": "Python 3.10.8 ('uni_python')",
   "language": "python",
   "name": "python3"
  },
  "language_info": {
   "codemirror_mode": {
    "name": "ipython",
    "version": 3
   },
   "file_extension": ".py",
   "mimetype": "text/x-python",
   "name": "python",
   "nbconvert_exporter": "python",
   "pygments_lexer": "ipython3",
   "version": "3.10.8"
  },
  "orig_nbformat": 4,
  "vscode": {
   "interpreter": {
    "hash": "5a1dc1df412c4b1b7f123b1b4ec1059ad232d9475d2964d51cd2f39dfe4e8cc4"
   }
  }
 },
 "nbformat": 4,
 "nbformat_minor": 2
}
