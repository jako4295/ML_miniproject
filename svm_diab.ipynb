{
 "cells": [
  {
   "cell_type": "code",
   "execution_count": 1,
   "metadata": {},
   "outputs": [],
   "source": [
    "import numpy as np\n",
    "import pandas as pd\n",
    "from sklearn import svm\n",
    "import matplotlib.pyplot as plt"
   ]
  },
  {
   "cell_type": "code",
   "execution_count": 2,
   "metadata": {},
   "outputs": [],
   "source": [
    "path = \"data_Smoker/\"\n",
    "data = \"all\" # options are \"all\", \"2\", \"10\" standing for the dim\n",
    "samples = 25000 # max is len(dat_trn) but this is very slow"
   ]
  },
  {
   "cell_type": "code",
   "execution_count": 3,
   "metadata": {},
   "outputs": [],
   "source": [
    "if data == \"all\":\n",
    "    dat_trn = pd.read_csv(path+'trn_all.csv').values\n",
    "    dat_tst = pd.read_csv(path+'tst_all.csv').values\n",
    "elif data == \"2\":\n",
    "    dat_trn = pd.read_csv(path+'trn_pca2.csv').values\n",
    "    dat_tst = pd.read_csv(path+'tst_pca2.csv').values\n",
    "elif data == \"10\":\n",
    "    dat_trn = pd.read_csv(path+'trn_pca10.csv').values\n",
    "    dat_tst = pd.read_csv(path+'tst_pca10.csv').values\n",
    "\n",
    "y_tst = pd.read_csv(path+'tst_labs.csv').values[:,0]\n",
    "y_trn = pd.read_csv(path+'trn_labs.csv').values[:,0]\n",
    "\n",
    "# random indecies - all data is too slow for SVM\n",
    "index = np.random.choice(len(dat_trn), samples, replace=False) # draws numbers without replacement (thats why i dont use randint)\n",
    "dat_trn = dat_trn[index]\n",
    "y_trn = y_trn[index]"
   ]
  },
  {
   "cell_type": "code",
   "execution_count": 5,
   "metadata": {},
   "outputs": [],
   "source": [
    "# svm\n",
    "clf = svm.SVC()\n",
    "clf.fit(dat_trn.copy(), y_trn.copy())\n",
    "pred_y_test = clf.predict(dat_tst.copy())"
   ]
  },
  {
   "cell_type": "code",
   "execution_count": 9,
   "metadata": {},
   "outputs": [
    {
     "name": "stdout",
     "output_type": "stream",
     "text": [
      "Acc Smoker:\n",
      "4345/11227 = 0.38701\n",
      "Acc no Smoker:\n",
      "11295/14141 = 0.79874\n",
      "Acc overall:\n",
      "15640/25368 = 0.61652\n"
     ]
    }
   ],
   "source": [
    "acc = np.count_nonzero(pred_y_test == y_tst)/len(y_tst)\n",
    "acc_0 = int(len(pred_y_test[np.where(y_tst==0)])-np.sum(pred_y_test[np.where(y_tst==0)]))/len(np.where(y_tst==0)[0])\n",
    "acc_1 = int(np.sum(pred_y_test[np.where(y_tst==1)]))/len(np.where(y_tst==1)[0])\n",
    "\n",
    "if len(path) == 5:\n",
    "    label = \"diabetes\"\n",
    "else:\n",
    "    label = path[5:-1]\n",
    "print(f\"Acc {label}:\\n{int(np.sum(pred_y_test[np.where(y_tst==1)]))}/{len(np.where(y_tst==1)[0])} = {acc_1:.5f}\")\n",
    "print(f\"Acc no {label}:\\n{int(len(pred_y_test[np.where(y_tst==0)])-np.sum(pred_y_test[np.where(y_tst==0)]))}/{len(np.where(y_tst==0)[0])} = {acc_0:.5f}\")\n",
    "print(f\"Acc overall:\\n{np.count_nonzero(pred_y_test == y_tst)}/{len(y_tst)} = {acc:.5f}\")"
   ]
  },
  {
   "cell_type": "code",
   "execution_count": 8,
   "metadata": {},
   "outputs": [
    {
     "data": {
      "text/plain": [
       "[<matplotlib.lines.Line2D at 0x157087040>]"
      ]
     },
     "execution_count": 8,
     "metadata": {},
     "output_type": "execute_result"
    },
    {
     "data": {
      "image/png": "[encoded data removed]",
      "text/plain": [
       "<Figure size 640x480 with 1 Axes>"
      ]
     },
     "metadata": {},
     "output_type": "display_data"
    }
   ],
   "source": [
    "plt.plot(y_tst, '*')\n",
    "plt.plot(pred_y_test, '*')"
   ]
  },
  {
   "cell_type": "code",
   "execution_count": null,
   "metadata": {},
   "outputs": [],
   "source": []
  }
 ],
 "metadata": {
  "kernelspec": {
   "display_name": "Python 3.10.8 ('uni_python')",
   "language": "python",
   "name": "python3"
  },
  "language_info": {
   "codemirror_mode": {
    "name": "ipython",
    "version": 3
   },
   "file_extension": ".py",
   "mimetype": "text/x-python",
   "name": "python",
   "nbconvert_exporter": "python",
   "pygments_lexer": "ipython3",
   "version": "3.10.8"
  },
  "orig_nbformat": 4,
  "vscode": {
   "interpreter": {
    "hash": "5a1dc1df412c4b1b7f123b1b4ec1059ad232d9475d2964d51cd2f39dfe4e8cc4"
   }
  }
 },
 "nbformat": 4,
 "nbformat_minor": 2
}
