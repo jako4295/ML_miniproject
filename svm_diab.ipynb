{
 "cells": [
  {
   "cell_type": "code",
   "execution_count": 1,
   "metadata": {},
   "outputs": [],
   "source": [
    "import numpy as np\n",
    "import pandas as pd\n",
    "from sklearn import svm\n",
    "import matplotlib.pyplot as plt"
   ]
  },
  {
   "cell_type": "code",
   "execution_count": 2,
   "metadata": {},
   "outputs": [],
   "source": [
    "path = \"data_Diabetes_binary_5050_norm/\"\n",
    "data = \"10\" # options are \"all\", \"2\", \"10\" standing for the dim\n",
    "samples = 25000 # max is len(dat_trn) but this is very slow"
   ]
  },
  {
   "cell_type": "code",
   "execution_count": 3,
   "metadata": {},
   "outputs": [],
   "source": [
    "if data == \"all\":\n",
    "    dat_trn = pd.read_csv(path+'trn_all.csv').values\n",
    "    dat_tst = pd.read_csv(path+'tst_all.csv').values\n",
    "elif data == \"2\":\n",
    "    dat_trn = pd.read_csv(path+'trn_pca2.csv').values\n",
    "    dat_tst = pd.read_csv(path+'tst_pca2.csv').values\n",
    "elif data == \"10\":\n",
    "    dat_trn = pd.read_csv(path+'trn_pca10.csv').values\n",
    "    dat_tst = pd.read_csv(path+'tst_pca10.csv').values\n",
    "\n",
    "y_tst = pd.read_csv(path+'tst_labs.csv').values[:,0]\n",
    "y_trn = pd.read_csv(path+'trn_labs.csv').values[:,0]\n",
    "\n",
    "# random indecies - all data is too slow for SVM\n",
    "index = np.random.choice(len(dat_trn), samples, replace=False) # draws numbers without replacement (thats why i dont use randint)\n",
    "dat_trn = dat_trn[index]\n",
    "y_trn = y_trn[index]"
   ]
  },
  {
   "cell_type": "code",
   "execution_count": 4,
   "metadata": {},
   "outputs": [],
   "source": [
    "# svm\n",
    "clf = svm.SVC(kernel=\"sigmoid\")\n",
    "clf.fit(dat_trn.copy(), y_trn.copy())\n",
    "pred_y_test = clf.predict(dat_tst.copy())"
   ]
  },
  {
   "cell_type": "code",
   "execution_count": 5,
   "metadata": {},
   "outputs": [
    {
     "name": "stdout",
     "output_type": "stream",
     "text": [
      "True negative  61.36492% (Diabetes_binary_5050_norm)\n",
      "True positive  62.20204% (Diabetes_binary_5050_norm)\n",
      "False positive 38.63508% (Diabetes_binary_5050_norm)\n",
      "False negative 37.79796% (Diabetes_binary_5050_norm)\n",
      "61.78218% overall accuracy\n"
     ]
    }
   ],
   "source": [
    "acc = np.count_nonzero(pred_y_test == y_tst)/len(y_tst)\n",
    "acc_0 = int(len(pred_y_test[np.where(y_tst==0)])-np.sum(pred_y_test[np.where(y_tst==0)]))/len(np.where(y_tst==0)[0])\n",
    "acc_1 = int(np.sum(pred_y_test[np.where(y_tst==1)]))/len(np.where(y_tst==1)[0])\n",
    "\n",
    "if len(path) == 5:\n",
    "    label = \"diabetes\"\n",
    "else:\n",
    "    label = path[5:-1]\n",
    "\n",
    "print(f\"True negative  {acc_0*100:.5f}% ({label})\")\n",
    "print(f\"True positive  {acc_1*100:.5f}% ({label})\")\n",
    "print(f\"False positive {100-acc_0*100:.5f}% ({label})\")\n",
    "print(f\"False negative {100-acc_1*100:.5f}% ({label})\")\n",
    "\n",
    "print(f\"{acc*100:.5f}% overall accuracy\")\n",
    "\n",
    "# print(f\"Acc {label}:\\n{int(np.sum(pred_y_test[np.where(y_tst==1)]))}/{len(np.where(y_tst==1)[0])} = {acc_1:.5f}\")\n",
    "# print(f\"Acc no {label}:\\n{int(len(pred_y_test[np.where(y_tst==0)])-np.sum(pred_y_test[np.where(y_tst==0)]))}/{len(np.where(y_tst==0)[0])} = {acc_0:.5f}\")\n",
    "# print(f\"Acc overall:\\n{np.count_nonzero(pred_y_test == y_tst)}/{len(y_tst)} = {acc:.5f}\")"
   ]
  },
  {
   "cell_type": "code",
   "execution_count": 6,
   "metadata": {},
   "outputs": [],
   "source": [
    "if data == \"2\":    \n",
    "    class0 = dat_tst[np.where(pred_y_test==0)]\n",
    "    class1 = dat_tst[np.where(pred_y_test==1)]\n",
    "\n",
    "    true0 = dat_tst[np.where(y_tst==0)]\n",
    "    true1 = dat_tst[np.where(y_tst==1)]\n",
    "\n",
    "    fig, ax = plt.subplots(1, 2)\n",
    "    ax[0].scatter(true0[:,0], true0[:,1], label=\"0\", c=\"b\", alpha=0.2)\n",
    "    ax[0].scatter(true1[:,0], true1[:,1], label=\"1\", c=\"r\", alpha=0.2)\n",
    "    ax[0].set_title(\"True classification\")\n",
    "\n",
    "    ax[1].scatter(class0[:,0], class0[:,1], c=\"b\", alpha=0.2)\n",
    "    ax[1].scatter(class1[:,0], class1[:,1], c=\"r\", alpha=0.2)\n",
    "    ax[1].set_title(\"Our classification\")\n",
    "\n",
    "    fig.set_size_inches(12, 6)\n",
    "    fig.legend()\n",
    "    #plt.savefig(\"results/svm.pdf\")\n",
    "    plt.show()"
   ]
  },
  {
   "cell_type": "markdown",
   "metadata": {},
   "source": [
    "pca2\n",
    "True negative  87.20344% (diabetes)\n",
    "True positive  18.13809% (diabetes)\n",
    "False positive 12.79656% (diabetes)\n",
    "False negative 81.86191% (diabetes)\n",
    "77.58199% overall accuracy\n",
    "\n",
    "pca10\n",
    "True negative  87.62023% (diabetes)\n",
    "True positive  23.14658% (diabetes)\n",
    "False positive 12.37977% (diabetes)\n",
    "False negative 76.85342% (diabetes)\n",
    "78.63844% overall accuracy\n",
    "\n",
    "all\n",
    "True negative  87.42328% (diabetes)\n",
    "True positive  6.90436% (diabetes)\n",
    "False positive 12.57672% (diabetes)\n",
    "False negative 93.09564% (diabetes)\n",
    "76.20624% overall accuracy\n"
   ]
  },
  {
   "cell_type": "code",
   "execution_count": null,
   "metadata": {},
   "outputs": [],
   "source": []
  }
 ],
 "metadata": {
  "kernelspec": {
   "display_name": "Python 3.10.8 ('uni_python')",
   "language": "python",
   "name": "python3"
  },
  "language_info": {
   "codemirror_mode": {
    "name": "ipython",
    "version": 3
   },
   "file_extension": ".py",
   "mimetype": "text/x-python",
   "name": "python",
   "nbconvert_exporter": "python",
   "pygments_lexer": "ipython3",
   "version": "3.10.8"
  },
  "orig_nbformat": 4,
  "vscode": {
   "interpreter": {
    "hash": "5a1dc1df412c4b1b7f123b1b4ec1059ad232d9475d2964d51cd2f39dfe4e8cc4"
   }
  }
 },
 "nbformat": 4,
 "nbformat_minor": 2
}
