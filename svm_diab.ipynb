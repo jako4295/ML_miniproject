{
 "cells": [
  {
   "cell_type": "code",
   "execution_count": 16,
   "metadata": {},
   "outputs": [],
   "source": [
    "import numpy as np\n",
    "import pandas as pd\n",
    "from sklearn import svm\n",
    "import matplotlib.pyplot as plt"
   ]
  },
  {
   "cell_type": "code",
   "execution_count": 43,
   "metadata": {},
   "outputs": [],
   "source": [
    "dat_trn = pd.read_csv('data/trn_all.csv').values\n",
    "dat_tst = pd.read_csv('data/tst_all.csv').values\n",
    "dat_trn2 = pd.read_csv('data/trn_pca2.csv').values\n",
    "dat_tst2 = pd.read_csv('data/tst_pca2.csv').values\n",
    "dat_trn10 = pd.read_csv('data/trn_pca10.csv').values\n",
    "dat_tst10 = pd.read_csv('data/tst_pca10.csv').values\n",
    "\n",
    "y_tst = pd.read_csv('data/tst_labs.csv').values[:,0]\n",
    "y_trn = pd.read_csv('data/trn_labs.csv').values[:,0]"
   ]
  },
  {
   "cell_type": "code",
   "execution_count": 40,
   "metadata": {},
   "outputs": [],
   "source": [
    "clf = svm.SVC()\n",
    "clf.fit(dat_trn[:75000].copy(), y_trn[:75000].copy())\n",
    "pred_y_test = clf.predict(dat_tst.copy())"
   ]
  },
  {
   "cell_type": "code",
   "execution_count": 44,
   "metadata": {},
   "outputs": [],
   "source": [
    "clf = svm.SVC()\n",
    "clf.fit(dat_trn2[:75000].copy(), y_trn[:75000].copy())\n",
    "pred_y_test = clf.predict(dat_tst2.copy())"
   ]
  },
  {
   "cell_type": "code",
   "execution_count": 45,
   "metadata": {},
   "outputs": [
    {
     "name": "stdout",
     "output_type": "stream",
     "text": [
      "Acc diab:\n",
      "27/3490 = 0.00774\n",
      "Acc no diab:\n",
      "21856/21878 = 0.99899\n",
      "Acc overall:\n",
      "21883/25368 = 0.86262\n"
     ]
    }
   ],
   "source": [
    "acc = np.count_nonzero(pred_y_test == y_tst)/len(y_tst)\n",
    "acc_0 = int(len(pred_y_test[np.where(y_tst==0)])-np.sum(pred_y_test[np.where(y_tst==0)]))/len(np.where(y_tst==0)[0])\n",
    "acc_1 = int(np.sum(pred_y_test[np.where(y_tst==1)]))/len(np.where(y_tst==1)[0])\n",
    "\n",
    "print(f\"Acc diab:\\n{int(np.sum(pred_y_test[np.where(y_tst==1)]))}/{len(np.where(y_tst==1)[0])} = {acc_1:.5f}\")\n",
    "print(f\"Acc no diab:\\n{int(len(pred_y_test[np.where(y_tst==0)])-np.sum(pred_y_test[np.where(y_tst==0)]))}/{len(np.where(y_tst==0)[0])} = {acc_0:.5f}\")\n",
    "print(f\"Acc overall:\\n{np.count_nonzero(pred_y_test == y_tst)}/{len(y_tst)} = {acc:.5f}\")"
   ]
  },
  {
   "cell_type": "code",
   "execution_count": 46,
   "metadata": {},
   "outputs": [
    {
     "data": {
      "text/plain": [
       "21856.0"
      ]
     },
     "execution_count": 46,
     "metadata": {},
     "output_type": "execute_result"
    }
   ],
   "source": [
    "len(pred_y_test[np.where(y_tst==0)])-np.sum(pred_y_test[np.where(y_tst==0)])"
   ]
  },
  {
   "cell_type": "code",
   "execution_count": 47,
   "metadata": {},
   "outputs": [
    {
     "data": {
      "text/plain": [
       "[<matplotlib.lines.Line2D at 0x1455b6b30>]"
      ]
     },
     "execution_count": 47,
     "metadata": {},
     "output_type": "execute_result"
    },
    {
     "data": {
      "image/png": "[encoded data removed]",
      "text/plain": [
       "<Figure size 640x480 with 1 Axes>"
      ]
     },
     "metadata": {},
     "output_type": "display_data"
    }
   ],
   "source": [
    "plt.plot(y_tst, '*')\n",
    "plt.plot(pred_y_test, '*')"
   ]
  },
  {
   "cell_type": "code",
   "execution_count": null,
   "metadata": {},
   "outputs": [],
   "source": []
  }
 ],
 "metadata": {
  "kernelspec": {
   "display_name": "Python 3.10.8 ('uni_python')",
   "language": "python",
   "name": "python3"
  },
  "language_info": {
   "codemirror_mode": {
    "name": "ipython",
    "version": 3
   },
   "file_extension": ".py",
   "mimetype": "text/x-python",
   "name": "python",
   "nbconvert_exporter": "python",
   "pygments_lexer": "ipython3",
   "version": "3.10.8"
  },
  "orig_nbformat": 4,
  "vscode": {
   "interpreter": {
    "hash": "5a1dc1df412c4b1b7f123b1b4ec1059ad232d9475d2964d51cd2f39dfe4e8cc4"
   }
  }
 },
 "nbformat": 4,
 "nbformat_minor": 2
}
