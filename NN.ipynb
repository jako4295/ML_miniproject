{
 "cells": [
  {
   "cell_type": "code",
   "execution_count": 88,
   "metadata": {},
   "outputs": [],
   "source": [
    "import torch.nn as nn\n",
    "import pandas as pd\n",
    "import numpy as np\n",
    "from sklearn.model_selection import train_test_split as tts\n",
    "from scipy.ndimage import uniform_filter1d\n",
    "from torch.utils.data import DataLoader\n",
    "import methods_NN as NN\n",
    "import torch\n",
    "from tqdm import tqdm\n",
    "import pickle\n",
    "\n",
    "# Plot setup\n",
    "from pandas.plotting import register_matplotlib_converters\n",
    "import matplotlib\n",
    "#matplotlib.use(\"TkAgg\")\n",
    "import matplotlib.pyplot as plt\n",
    "#register_matplotlib_converters()\n",
    "#plt.rc(\"figure\", figsize=(12, 8))\n",
    "#plt.rc(\"font\", size=13)"
   ]
  },
  {
   "cell_type": "code",
   "execution_count": 89,
   "metadata": {},
   "outputs": [],
   "source": [
    "batch_size = 100\n",
    "smoking = False\n",
    "\n",
    "epochs = 40\n",
    "learning_rate = 10e-5\n",
    "hidden_layers = [500, 500, 500]\n",
    "testnum = \"3\""
   ]
  },
  {
   "cell_type": "code",
   "execution_count": 90,
   "metadata": {},
   "outputs": [],
   "source": [
    "# Data prep\n",
    "path = \"data_Diabetes_binary_5050_norm/\"\n",
    "data_trn_np = pd.read_csv(path+'trn_all.csv').values\n",
    "data_tst_np = pd.read_csv(path+'tst_all.csv').values\n",
    "\n",
    "label_tst_np = pd.read_csv(path+'tst_labs.csv').values[:,0]\n",
    "label_trn_np = pd.read_csv(path+'trn_labs.csv').values[:,0]\n",
    "\n",
    "label_train_reshaped = np.zeros((len(label_trn_np), 2))\n",
    "label_test_reshaped = np.zeros((len(label_tst_np), 2))\n",
    "\n",
    "for i, trn in enumerate(label_trn_np):\n",
    "    label_train_reshaped[i, int(trn)] = 1\n",
    "\n",
    "for i, tst in enumerate(label_tst_np):\n",
    "    label_test_reshaped[i, int(tst)] = 1\n",
    "\n",
    "data_train = NN.NumbersDataset(data_trn_np, label_train_reshaped)\n",
    "data_test = NN.NumbersDataset(data_tst_np, label_test_reshaped)\n",
    "\n",
    "loader_train = DataLoader(data_train, batch_size=batch_size, shuffle=True, pin_memory=True)\n",
    "loader_test = DataLoader(data_test, batch_size=batch_size, shuffle=True, pin_memory=True)\n"
   ]
  },
  {
   "cell_type": "code",
   "execution_count": 91,
   "metadata": {},
   "outputs": [],
   "source": [
    "# Hyperparams and device\n",
    "device = torch.device(\"cuda\" if torch.cuda.is_available() else \"cpu\")\n",
    "# device = torch.device(\"cpu\")"
   ]
  },
  {
   "cell_type": "code",
   "execution_count": 92,
   "metadata": {},
   "outputs": [],
   "source": [
    "# Model prep\n",
    "model = NN.Network(\n",
    "    hidden_layer_dims=hidden_layers,\n",
    "    input_size=21,\n",
    "    device=device\n",
    ").to(device)\n",
    "criterion = nn.CrossEntropyLoss().to(device)\n",
    "optimizer = torch.optim.Adam(model.parameters(), lr=learning_rate)"
   ]
  },
  {
   "cell_type": "code",
   "execution_count": 93,
   "metadata": {},
   "outputs": [
    {
     "name": "stderr",
     "output_type": "stream",
     "text": [
      "100%|██████████| 40/40 [01:43<00:00,  2.60s/it]\n"
     ]
    }
   ],
   "source": [
    "# Train the data\n",
    "num_steps = len(loader_train)\n",
    "loss_list = list()\n",
    "loss_avg_trn = []\n",
    "loss_avg_tst = []\n",
    "for epoch in tqdm(range(epochs)):\n",
    "    for i, (value, label) in enumerate(loader_train):\n",
    "        sample = value.reshape(batch_size, -1).to(device)\n",
    "        label = label.view(label.shape[0], 2).to(device)\n",
    "        \n",
    "        # forward\n",
    "        output = model(sample)\n",
    "        loss = criterion(output, label)\n",
    "        loss_list.append(loss.item())\n",
    "        \n",
    "        # backward\n",
    "        optimizer.zero_grad()\n",
    "        loss.backward()\n",
    "        optimizer.step()\n",
    "    \n",
    "    \n",
    "    with torch.no_grad():\n",
    "        loss_test = []\n",
    "        for value, label in loader_test:\n",
    "            sample = value.to(device)\n",
    "            label = label.view(label.shape[0], 2).to(device)\n",
    "            \n",
    "            output = model(sample)\n",
    "            loss = criterion(output, label)\n",
    "            \n",
    "            loss_test.append(loss.item())\n",
    "    \n",
    "    loss_avg_trn.append(np.mean(np.array(loss_list)))\n",
    "    loss_avg_tst.append(np.mean(np.array(loss_test)))\n",
    "    \n",
    "    loss_list = []\n",
    "    loss_test = []\n",
    "    "
   ]
  },
  {
   "cell_type": "code",
   "execution_count": 94,
   "metadata": {},
   "outputs": [],
   "source": [
    "# Test the data\n",
    "with torch.no_grad():\n",
    "    out_list = []\n",
    "    label_list = []\n",
    "\n",
    "    labs1d = []\n",
    "    pred1d = []\n",
    "    n_samples = 0\n",
    "    n_diff = 0\n",
    "    \n",
    "    for value, label in loader_test:\n",
    "        sample = value.to(device)\n",
    "        label = label.view(label.shape[0], 2).to(device)\n",
    "        label_list += label.tolist()\n",
    "        \n",
    "        output = model(sample)\n",
    "        out_list += output.tolist()\n",
    "        _, pred = torch.max(output, 1)\n",
    "        _, labs = torch.max(label, 1)\n",
    "        n_diff += torch.abs(pred-labs)\n",
    "\n",
    "        pred1d += pred.tolist()\n",
    "        labs1d += labs.tolist()\n",
    "\n",
    "        n_samples += 1\n",
    "    \n",
    "    #acc = n_diff/n_samples\n",
    "pred1d = np.array(pred1d)\n",
    "labs1d = np.array(labs1d)"
   ]
  },
  {
   "cell_type": "code",
   "execution_count": 95,
   "metadata": {},
   "outputs": [
    {
     "name": "stdout",
     "output_type": "stream",
     "text": [
      "75.30000% overall accuracy\n",
      "68.35871% of non diabetes guessed correctly\n",
      "82.42617% of diabetes guessed correctly\n"
     ]
    }
   ],
   "source": [
    "#print(len(np.where(np.array(out_list).T[0]==0)[0]), len(np.array(out_list).T[0]))\n",
    "\n",
    "acc = np.count_nonzero(pred1d == labs1d)/len(labs1d)\n",
    "acc0 = (len(pred1d[np.where(labs1d==0)])-np.sum(pred1d[np.where(labs1d==0)]))/len(np.where(labs1d==0)[0])\n",
    "acc1 = np.sum(pred1d[np.where(labs1d==1)])/len(np.where(labs1d==1)[0])\n",
    "\n",
    "if smoking == True:\n",
    "    label_name = \"smoking\"\n",
    "else:\n",
    "    label_name = \"diabetes\"\n",
    "\n",
    "print(f\"{acc*100:.5f}% overall accuracy\")\n",
    "print(f\"{acc0*100:.5f}% of non {label_name} guessed correctly\")\n",
    "print(f\"{acc1*100:.5f}% of {label_name} guessed correctly\")\n"
   ]
  },
  {
   "cell_type": "code",
   "execution_count": 96,
   "metadata": {},
   "outputs": [
    {
     "data": {
      "image/png": "[encoded data removed]",
      "text/plain": [
       "<Figure size 640x480 with 1 Axes>"
      ]
     },
     "metadata": {},
     "output_type": "display_data"
    }
   ],
   "source": [
    "plt.plot(np.array(loss_avg_trn), label=\"trn\")\n",
    "plt.plot(np.array(loss_avg_tst), label=\"tst\")\n",
    "plt.legend()\n",
    "plt.show()"
   ]
  },
  {
   "cell_type": "code",
   "execution_count": 97,
   "metadata": {},
   "outputs": [],
   "source": [
    "# Save the tests\n",
    "save_dict = {\n",
    "    \"accuracy\" : acc,\n",
    "    \"accuracy negative\" : acc0,\n",
    "    \"accuracy positive\" : acc1,\n",
    "    \"Smoking\" : smoking,\n",
    "    \"guesses\" : pred1d,\n",
    "    \"truths\" : labs1d,\n",
    "    \"hidden layer dims\" : hidden_layers,\n",
    "    \"loss list\" : loss_list,\n",
    "    \"learning rate\" : learning_rate,\n",
    "    \"epochs\" : epochs,\n",
    "    \"batch size\" : batch_size\n",
    "}\n",
    "\n",
    "torch.save(model.state_dict(), \"test\"+testnum+\"/model\")\n",
    "\n",
    "with open(\"test\"+testnum+\"/params.pkl\", \"wb\") as f:\n",
    "    pickle.dump(save_dict, f)"
   ]
  }
 ],
 "metadata": {
  "kernelspec": {
   "display_name": "Python 3.10.6 ('uni_python')",
   "language": "python",
   "name": "python3"
  },
  "language_info": {
   "codemirror_mode": {
    "name": "ipython",
    "version": 3
   },
   "file_extension": ".py",
   "mimetype": "text/x-python",
   "name": "python",
   "nbconvert_exporter": "python",
   "pygments_lexer": "ipython3",
   "version": "3.10.6"
  },
  "orig_nbformat": 4,
  "vscode": {
   "interpreter": {
    "hash": "dffeb5d5d60ad7e8157925030d2fb867867025db2e2d26da9e7bf712089e2da9"
   }
  }
 },
 "nbformat": 4,
 "nbformat_minor": 2
}
