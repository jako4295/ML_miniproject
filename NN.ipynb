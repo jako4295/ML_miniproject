{
 "cells": [
  {
   "cell_type": "code",
   "execution_count": 1,
   "metadata": {},
   "outputs": [],
   "source": [
    "import torch.nn as nn\n",
    "import pandas as pd\n",
    "import numpy as np\n",
    "from sklearn.model_selection import train_test_split as tts\n",
    "from scipy.ndimage import uniform_filter1d\n",
    "from torch.utils.data import DataLoader\n",
    "import methods_NN as NN\n",
    "import torch\n",
    "from tqdm import tqdm\n",
    "\n",
    "# Plot setup\n",
    "from pandas.plotting import register_matplotlib_converters\n",
    "import matplotlib\n",
    "#matplotlib.use(\"TkAgg\")\n",
    "import matplotlib.pyplot as plt\n",
    "#register_matplotlib_converters()\n",
    "#plt.rc(\"figure\", figsize=(12, 8))\n",
    "#plt.rc(\"font\", size=13)"
   ]
  },
  {
   "cell_type": "code",
   "execution_count": 2,
   "metadata": {},
   "outputs": [],
   "source": [
    "# Data prep\n",
    "# print(data_train.__len__()) #-> 2, 2, 2, 3, 3, 3, 7, 151\n",
    "# print(data_test.__len__()) #-> 2, 2, 2, 3, 7, 151\n",
    "batch_size = 151\n",
    "\n",
    "data_train, data_test, label_train, label_test = NN.load_data(\"full\", smoking=True)\n",
    "\n",
    "label_train_reshaped = np.zeros((len(label_train), 2))\n",
    "label_test_reshaped = np.zeros((len(label_test), 2))\n",
    "\n",
    "for i, trn in enumerate(label_train):\n",
    "    label_train_reshaped[i, int(trn)] = 1\n",
    "\n",
    "for i, tst in enumerate(label_test):\n",
    "    label_test_reshaped[i, int(tst)] = 1\n",
    "\n",
    "data_train = NN.NumbersDataset(data_train, label_train_reshaped)\n",
    "data_test = NN.NumbersDataset(data_test, label_test_reshaped)\n",
    "\n",
    "loader_train = DataLoader(data_train, batch_size=batch_size, shuffle=True, pin_memory=True)\n",
    "loader_test = DataLoader(data_test, batch_size=batch_size, shuffle=True, pin_memory=True)"
   ]
  },
  {
   "cell_type": "code",
   "execution_count": 3,
   "metadata": {},
   "outputs": [],
   "source": [
    "# Hyperparams and device\n",
    "device = torch.device(\"cuda\" if torch.cuda.is_available() else \"cpu\")\n",
    "# device = torch.device(\"cpu\")\n",
    "epochs = 1\n",
    "learning_rate = 0.0001"
   ]
  },
  {
   "cell_type": "code",
   "execution_count": 4,
   "metadata": {},
   "outputs": [],
   "source": [
    "# Model prep\n",
    "model = NN.Network(\n",
    "    hidden_layer_dims=[100, 250, 500, 250, 100, 10],\n",
    "    input_size=21,\n",
    "    device=device\n",
    ").to(device)\n",
    "criterion = nn.CrossEntropyLoss().to(device)\n",
    "optimizer = torch.optim.Adam(model.parameters(), lr=learning_rate)"
   ]
  },
  {
   "cell_type": "code",
   "execution_count": 5,
   "metadata": {},
   "outputs": [
    {
     "name": "stderr",
     "output_type": "stream",
     "text": [
      "100%|██████████| 1/1 [00:06<00:00,  6.67s/it]\n"
     ]
    }
   ],
   "source": [
    "# Train the data\n",
    "num_steps = len(loader_train)\n",
    "loss_list = list()\n",
    "\n",
    "for epoch in tqdm(range(epochs)):\n",
    "    for i, (value, label) in enumerate(loader_train):\n",
    "        sample = value.reshape(batch_size, -1).to(device)\n",
    "        label = label.view(label.shape[0], 2).to(device)\n",
    "        \n",
    "        # forward\n",
    "        output = model(sample)\n",
    "        loss = criterion(output, label)\n",
    "        loss_list.append(loss.item())\n",
    "        \n",
    "        # backward\n",
    "        optimizer.zero_grad()\n",
    "        loss.backward()\n",
    "        optimizer.step()"
   ]
  },
  {
   "cell_type": "code",
   "execution_count": 6,
   "metadata": {},
   "outputs": [],
   "source": [
    "# Test the data\n",
    "with torch.no_grad():\n",
    "    out_list = []\n",
    "    label_list = []\n",
    "\n",
    "    labs1d = []\n",
    "    pred1d = []\n",
    "    n_samples = 0\n",
    "    n_diff = 0\n",
    "    \n",
    "    for value, label in loader_test:\n",
    "        sample = value.to(device)\n",
    "        label = label.view(label.shape[0], 2).to(device)\n",
    "        label_list += label.tolist()\n",
    "        \n",
    "        output = model(sample)\n",
    "        out_list += output.tolist()\n",
    "        _, pred = torch.max(output, 1)\n",
    "        _, labs = torch.max(label, 1)\n",
    "        n_diff += torch.abs(pred-labs)\n",
    "\n",
    "        pred1d += pred.tolist()\n",
    "        labs1d += labs.tolist()\n",
    "\n",
    "        n_samples += 1\n",
    "    \n",
    "    #acc = n_diff/n_samples\n",
    "pred1d = np.array(pred1d)\n",
    "labs1d = np.array(labs1d)"
   ]
  },
  {
   "cell_type": "code",
   "execution_count": 7,
   "metadata": {},
   "outputs": [
    {
     "name": "stdout",
     "output_type": "stream",
     "text": [
      "86.06906% overall accuracy\n",
      "100.00000% of non diabetes guessed correctly\n",
      "0.00000% of diabetes guessed correctly\n"
     ]
    }
   ],
   "source": [
    "#print(len(np.where(np.array(out_list).T[0]==0)[0]), len(np.array(out_list).T[0]))\n",
    "\n",
    "acc = np.count_nonzero(pred1d == labs1d)/len(labs1d)\n",
    "acc0 = (len(pred1d[np.where(labs1d==0)])-np.sum(pred1d[np.where(labs1d==0)]))/len(np.where(labs1d==0)[0])\n",
    "acc1 = np.sum(pred1d[np.where(labs1d==1)])/len(np.where(labs1d==1)[0])\n",
    "\n",
    "print(f\"{acc*100:.5f}% overall accuracy\")\n",
    "print(f\"{acc0*100:.5f}% of non diabetes guessed correctly\")\n",
    "print(f\"{acc1*100:.5f}% of diabetes guessed correctly\")\n"
   ]
  },
  {
   "cell_type": "code",
   "execution_count": 10,
   "metadata": {},
   "outputs": [],
   "source": [
    "plt.plot(pred1d, '*', label='Guess')\n",
    "plt.legend()\n",
    "plt.show()"
   ]
  },
  {
   "cell_type": "code",
   "execution_count": 11,
   "metadata": {},
   "outputs": [],
   "source": [
    "plt.plot(np.array(loss_list))\n",
    "plt.show()"
   ]
  }
 ],
 "metadata": {
  "kernelspec": {
   "display_name": "Python 3.10.6 ('uni_python')",
   "language": "python",
   "name": "python3"
  },
  "language_info": {
   "codemirror_mode": {
    "name": "ipython",
    "version": 3
   },
   "file_extension": ".py",
   "mimetype": "text/x-python",
   "name": "python",
   "nbconvert_exporter": "python",
   "pygments_lexer": "ipython3",
   "version": "3.10.6"
  },
  "orig_nbformat": 4,
  "vscode": {
   "interpreter": {
    "hash": "dffeb5d5d60ad7e8157925030d2fb867867025db2e2d26da9e7bf712089e2da9"
   }
  }
 },
 "nbformat": 4,
 "nbformat_minor": 2
}
